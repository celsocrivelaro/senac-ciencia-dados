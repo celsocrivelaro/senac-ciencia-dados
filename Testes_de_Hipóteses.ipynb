{
  "nbformat": 4,
  "nbformat_minor": 0,
  "metadata": {
    "colab": {
      "provenance": [],
      "authorship_tag": "ABX9TyO1MlmFsvK3En8ds3XeIDu+",
      "include_colab_link": true
    },
    "kernelspec": {
      "name": "python3",
      "display_name": "Python 3"
    },
    "language_info": {
      "name": "python"
    }
  },
  "cells": [
    {
      "cell_type": "markdown",
      "metadata": {
        "id": "view-in-github",
        "colab_type": "text"
      },
      "source": [
        "<a href=\"https://colab.research.google.com/github/celsocrivelaro/senac-ciencia-dados/blob/main/Testes_de_Hip%C3%B3teses.ipynb\" target=\"_parent\"><img src=\"https://colab.research.google.com/assets/colab-badge.svg\" alt=\"Open In Colab\"/></a>"
      ]
    },
    {
      "cell_type": "code",
      "execution_count": null,
      "metadata": {
        "colab": {
          "base_uri": "https://localhost:8080/"
        },
        "id": "pDqG8xTYSAOE",
        "outputId": "64d3a98f-c878-42a7-b374-f44dcb4127dc"
      },
      "outputs": [
        {
          "output_type": "stream",
          "name": "stdout",
          "text": [
            "Looking in indexes: https://pypi.org/simple, https://us-python.pkg.dev/colab-wheels/public/simple/\n",
            "Collecting scikit_posthocs\n",
            "  Downloading scikit_posthocs-0.7.0-py3-none-any.whl (38 kB)\n",
            "Requirement already satisfied: pandas>=0.20.0 in /usr/local/lib/python3.7/dist-packages (from scikit_posthocs) (1.3.5)\n",
            "Requirement already satisfied: scipy in /usr/local/lib/python3.7/dist-packages (from scikit_posthocs) (1.7.3)\n",
            "Requirement already satisfied: seaborn in /usr/local/lib/python3.7/dist-packages (from scikit_posthocs) (0.11.2)\n",
            "Requirement already satisfied: statsmodels in /usr/local/lib/python3.7/dist-packages (from scikit_posthocs) (0.12.2)\n",
            "Requirement already satisfied: numpy in /usr/local/lib/python3.7/dist-packages (from scikit_posthocs) (1.21.6)\n",
            "Requirement already satisfied: matplotlib in /usr/local/lib/python3.7/dist-packages (from scikit_posthocs) (3.2.2)\n",
            "Requirement already satisfied: pytz>=2017.3 in /usr/local/lib/python3.7/dist-packages (from pandas>=0.20.0->scikit_posthocs) (2022.5)\n",
            "Requirement already satisfied: python-dateutil>=2.7.3 in /usr/local/lib/python3.7/dist-packages (from pandas>=0.20.0->scikit_posthocs) (2.8.2)\n",
            "Requirement already satisfied: six>=1.5 in /usr/local/lib/python3.7/dist-packages (from python-dateutil>=2.7.3->pandas>=0.20.0->scikit_posthocs) (1.15.0)\n",
            "Requirement already satisfied: kiwisolver>=1.0.1 in /usr/local/lib/python3.7/dist-packages (from matplotlib->scikit_posthocs) (1.4.4)\n",
            "Requirement already satisfied: cycler>=0.10 in /usr/local/lib/python3.7/dist-packages (from matplotlib->scikit_posthocs) (0.11.0)\n",
            "Requirement already satisfied: pyparsing!=2.0.4,!=2.1.2,!=2.1.6,>=2.0.1 in /usr/local/lib/python3.7/dist-packages (from matplotlib->scikit_posthocs) (3.0.9)\n",
            "Requirement already satisfied: typing-extensions in /usr/local/lib/python3.7/dist-packages (from kiwisolver>=1.0.1->matplotlib->scikit_posthocs) (4.1.1)\n",
            "Requirement already satisfied: patsy>=0.5 in /usr/local/lib/python3.7/dist-packages (from statsmodels->scikit_posthocs) (0.5.3)\n",
            "Installing collected packages: scikit-posthocs\n",
            "Successfully installed scikit-posthocs-0.7.0\n"
          ]
        }
      ],
      "source": [
        "#import scikit_posthocs as sp\n",
        "import numpy as np\n",
        "from scipy import stats\n",
        "import pandas as pd\n",
        "!pip install scikit_posthocs\n",
        "import scikit_posthocs as sp\n",
        "\n",
        "pd.options.display.float_format = '{:,.4f}'.format"
      ]
    },
    {
      "cell_type": "markdown",
      "source": [
        "# Testes de Hipóteses\n",
        "\n",
        "H0: hipótese nula\n",
        "\n",
        "H1: hipótese alternativa\n",
        "\n",
        "Possíveis configurações:\n",
        "\n",
        "1.   H0: média == x, H1 média != x\n",
        "2.   H0: média <= x, H1 média > x\n",
        "3. H0: média >= x, H1 média < x\n",
        "\n",
        "\n"
      ],
      "metadata": {
        "id": "krzTIHTPj9TI"
      }
    },
    {
      "cell_type": "markdown",
      "source": [
        "**Para checar para usar um teste paramétrica ou não-paramétricos, checar os seguintes requisitos:**\n",
        "\n",
        "- Observações são independentes e identicamente distribuídas\n",
        "- Distribuídas normalemtne\n",
        "- Variância Igual\n",
        "\n",
        "**Como checar se é Pareado ou não-pareado?**\n",
        "\n",
        "Se forem pareados, os dados das 2 comparações são feitos pela mesmo pessoa ou experimento."
      ],
      "metadata": {
        "id": "1UhAkpF6jter"
      }
    },
    {
      "cell_type": "markdown",
      "source": [
        "Como escolher o teste de Hipótese?"
      ],
      "metadata": {
        "id": "x8q03zyAjnLz"
      }
    },
    {
      "cell_type": "markdown",
      "source": [
        "![image.png](data:image/png;base64,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)"
      ],
      "metadata": {
        "id": "G30Kb596jgR9"
      }
    },
    {
      "cell_type": "markdown",
      "source": [
        "Lista dos testes:\n",
        "\n",
        "- [Paired t-test](https://docs.scipy.org/doc/scipy/reference/generated/scipy.stats.ttest_rel.html#scipy.stats.ttest_rel)\n",
        "- [Wilcoxon Signed Rank Test](https://docs.scipy.org/doc/scipy/reference/generated/scipy.stats.wilcoxon.html#scipy.stats.wilcoxon)\n",
        "-  [Analysis of Variance (ANOVA)](https://docs.scipy.org/doc/scipy/reference/generated/scipy.stats.f_oneway.html#scipy.stats.f_oneway)\n",
        "- [Friedman Test](https://docs.scipy.org/doc/scipy/reference/generated/scipy.stats.friedmanchisquare.html#scipy.stats.friedmanchisquare)\n",
        "- [Independent t-test](https://docs.scipy.org/doc/scipy/reference/generated/scipy.stats.ttest_ind.html#scipy.stats.ttest_ind)\n",
        "- [Mann-Whitey U test](https://docs.scipy.org/doc/scipy/reference/generated/scipy.stats.mannwhitneyu.html#scipy.stats.mannwhitneyu)\n",
        "- [Kruskal-Walls test](https://docs.scipy.org/doc/scipy/reference/generated/scipy.stats.shapiro.html)"
      ],
      "metadata": {
        "id": "8lkZ6zmLnZwu"
      }
    },
    {
      "cell_type": "markdown",
      "source": [
        "Checar se a distribuição é Paramétrica (Normal):"
      ],
      "metadata": {
        "id": "z3N8DSFWIpOP"
      }
    },
    {
      "cell_type": "code",
      "source": [
        "def checar_se_eh_parametrica(dados):\n",
        "  test_stat, p_value = stats.normaltest(dados)\n",
        "  print(\"p value:%.4f\" % p_value)\n",
        "  if p_value >= 0.05:\n",
        "      print(\"É paramétrico\")\n",
        "  else:\n",
        "    print(\"Não é paramétrico\")"
      ],
      "metadata": {
        "id": "B_VZt4B0nyHM"
      },
      "execution_count": null,
      "outputs": []
    },
    {
      "cell_type": "markdown",
      "source": [
        "# Problema 1 - Notas\n",
        "\n",
        "O professor do SENAC de Ciência de Dados gostaria de checar se as notas da disciplina teve diferenças quando as aulas foram remotas ou presenciais. Assumindo que são turmas diferentes, será que os alunos do remoto tiveram notas piores?\n",
        "\n",
        "### Definição da hipótese:\n",
        "\n",
        "- H0: nota_presencial <= nota_remoto\n",
        "- H1: nota_presencial > nota_remoto"
      ],
      "metadata": {
        "id": "Y0yfiNXRkVar"
      }
    },
    {
      "cell_type": "markdown",
      "source": [
        "## Premissas\n",
        "\n",
        "H₀: The data is normally distributed.\n",
        "\n",
        "H₁: The data is not normally distributed.\n",
        "\n",
        "α = 0.05 , se p-valor > 0.05 , os dados são distribuídos normalmente."
      ],
      "metadata": {
        "id": "M2eB64Vyl55s"
      }
    },
    {
      "cell_type": "code",
      "source": [
        "presencial = np.array([94. , 84.9, 82.6, 69.5, 80.1, 79.6, 81.4, 77.8, 81.7, 78.8, 73.2,\n",
        "       87.9, 87.9, 93.5, 82.3, 79.3, 78.3, 71.6, 88.6, 74.6, 74.1, 80.6])\n",
        "remoto = np.array([77.1, 71.7, 91. , 72.2, 74.8, 85.1, 67.6, 69.9, 75.3, 71.7, 65.7, 72.6, 71.5, 78.2])\n",
        "\n",
        "checar_se_eh_parametrica(presencial)\n",
        "checar_se_eh_parametrica(remoto)"
      ],
      "metadata": {
        "colab": {
          "base_uri": "https://localhost:8080/"
        },
        "id": "-gQpkX4dT2_a",
        "outputId": "71f44fee-f351-40c0-b428-c682cb3d2487"
      },
      "execution_count": null,
      "outputs": [
        {
          "output_type": "stream",
          "name": "stdout",
          "text": [
            "p value:0.7719\n",
            "É paramétrico\n",
            "p value:0.0345\n",
            "Não é paramátrico\n"
          ]
        },
        {
          "output_type": "stream",
          "name": "stderr",
          "text": [
            "/usr/local/lib/python3.7/dist-packages/scipy/stats/stats.py:1542: UserWarning: kurtosistest only valid for n>=20 ... continuing anyway, n=14\n",
            "  \"anyway, n=%i\" % int(n))\n"
          ]
        }
      ]
    },
    {
      "cell_type": "code",
      "source": [
        "## Escolhendo o teste apropriado:\n",
        "\n",
        "ttest,p_value = stats.mannwhitneyu(presencial, remoto)\n",
        "print(\"p-valor:%.8f\" % p_value)\n",
        "if p_value >= 0.05:\n",
        "  print(\"Falhou em rejeitar a hipótese nula - Aceitar H0\")\n",
        "else:\n",
        "  print(\"Rejeitou a hipótese nula\")"
      ],
      "metadata": {
        "colab": {
          "base_uri": "https://localhost:8080/"
        },
        "id": "39JxlWVwp9PI",
        "outputId": "2da84493-1a51-4e66-b499-69dd1601b146"
      },
      "execution_count": null,
      "outputs": [
        {
          "output_type": "stream",
          "name": "stdout",
          "text": [
            "p-valor:0.00552305\n",
            "Rejeitou a hipótese nula\n"
          ]
        }
      ]
    },
    {
      "cell_type": "markdown",
      "source": [
        "# Problema 2 - Metodologias de pesquisa\n",
        "\n",
        "Um pesquisador do SENAC fez uma metodologia C e quer comparar a performance com metodologias já consolidados na área A e B com 8 experimentos conhecidos.\n",
        "\n",
        "### Definição da hipótese:\n",
        "\n",
        "- H0: média_a == média_b == média_c\n",
        "- H1: Alguma é diferente"
      ],
      "metadata": {
        "id": "tigU4h9AqScb"
      }
    },
    {
      "cell_type": "code",
      "source": [
        "metodologia_a = np.array([89.9, 89.9, 88.6, 88.7, 89.6, 89.7, 89.2, 89.3])\n",
        "metodologia_b = np.array([90.0, 90.1, 88.8, 88.9, 89.9, 90.0, 89.0, 89.2])\n",
        "metodologia_c = np.array([91.5, 90.7, 90.3, 90.4, 90.2, 90.3, 90.2, 90.3])"
      ],
      "metadata": {
        "id": "dczlkEYgwMCO"
      },
      "execution_count": null,
      "outputs": []
    },
    {
      "cell_type": "code",
      "source": [
        "checar_se_eh_parametrica(metodologia_a)\n",
        "checar_se_eh_parametrica(metodologia_b)\n",
        "checar_se_eh_parametrica(metodologia_c)"
      ],
      "metadata": {
        "colab": {
          "base_uri": "https://localhost:8080/"
        },
        "id": "ynQn15QPvqYA",
        "outputId": "025140b3-33e2-434d-f5c7-52fd910c77d0"
      },
      "execution_count": null,
      "outputs": [
        {
          "output_type": "stream",
          "name": "stdout",
          "text": [
            "p value:0.5454\n",
            "É paramétrico\n",
            "p value:0.0633\n",
            "É paramétrico\n",
            "p value:0.0009\n",
            "Não é paramátrico\n"
          ]
        },
        {
          "output_type": "stream",
          "name": "stderr",
          "text": [
            "/usr/local/lib/python3.7/dist-packages/scipy/stats/stats.py:1542: UserWarning: kurtosistest only valid for n>=20 ... continuing anyway, n=8\n",
            "  \"anyway, n=%i\" % int(n))\n"
          ]
        }
      ]
    },
    {
      "cell_type": "code",
      "source": [
        "test_stat,p_value = stats.friedmanchisquare(metodologia_a,metodologia_b, metodologia_c)\n",
        "print(\"p value:%.4f\" % p_value)\n",
        "if p_value <0.05:\n",
        "    print(\"Rejeitar a hipótese nula\")\n",
        "else:\n",
        "    print(\"Falhou em rejeitar a hipótese nula\")"
      ],
      "metadata": {
        "colab": {
          "base_uri": "https://localhost:8080/"
        },
        "id": "UsJmg5rXxHto",
        "outputId": "fca381c1-4e5c-49b6-a674-98007d046385"
      },
      "execution_count": null,
      "outputs": [
        {
          "output_type": "stream",
          "name": "stdout",
          "text": [
            "p value:0.0015\n",
            "Rejeitar a hipótese nula\n"
          ]
        }
      ]
    },
    {
      "cell_type": "markdown",
      "source": [
        "Podemos concluir que um dos 3 experimentos não perfoma igual.\n",
        "\n",
        "Mas qual performa melhor? Como o teste é não-paramétrico, iremos usar o post-hoc do Wilcoxon que compara 2 a 2."
      ],
      "metadata": {
        "id": "UOO0pg71xURu"
      }
    },
    {
      "cell_type": "code",
      "source": [
        "data = np.array([metodologia_a, metodologia_b, metodologia_c])\n",
        "posthoc_df=sp.posthoc_wilcoxon(data, p_adjust=\"holm\")\n",
        "\n",
        "group_names= [\"Metodologia A\", \"Metodologia B\",\"Metodologia C\"]\n",
        "posthoc_df.columns= group_names\n",
        "posthoc_df.index= group_names\n",
        "posthoc_df.style.applymap(lambda x: \"background-color:violet;color:black\" if x<0.05 else \"background-color: white;color:black\")"
      ],
      "metadata": {
        "colab": {
          "base_uri": "https://localhost:8080/",
          "height": 143
        },
        "id": "x7y2jkMZzRkD",
        "outputId": "ad56b536-abb9-4b5e-917b-92d76b73e6b3"
      },
      "execution_count": null,
      "outputs": [
        {
          "output_type": "execute_result",
          "data": {
            "text/plain": [
              "<pandas.io.formats.style.Styler at 0x7fe21d36aad0>"
            ],
            "text/html": [
              "<style type=\"text/css\">\n",
              "#T_09a49_row0_col0, #T_09a49_row0_col1, #T_09a49_row1_col0, #T_09a49_row1_col1, #T_09a49_row2_col2 {\n",
              "  background-color: white;\n",
              "  color: black;\n",
              "}\n",
              "#T_09a49_row0_col2, #T_09a49_row1_col2, #T_09a49_row2_col0, #T_09a49_row2_col1 {\n",
              "  background-color: violet;\n",
              "  color: black;\n",
              "}\n",
              "</style>\n",
              "<table id=\"T_09a49_\" class=\"dataframe\">\n",
              "  <thead>\n",
              "    <tr>\n",
              "      <th class=\"blank level0\" >&nbsp;</th>\n",
              "      <th class=\"col_heading level0 col0\" >Metodologia A</th>\n",
              "      <th class=\"col_heading level0 col1\" >Metodologia B</th>\n",
              "      <th class=\"col_heading level0 col2\" >Metodologia C</th>\n",
              "    </tr>\n",
              "  </thead>\n",
              "  <tbody>\n",
              "    <tr>\n",
              "      <th id=\"T_09a49_level0_row0\" class=\"row_heading level0 row0\" >Metodologia A</th>\n",
              "      <td id=\"T_09a49_row0_col0\" class=\"data row0 col0\" >1.000000</td>\n",
              "      <td id=\"T_09a49_row0_col1\" class=\"data row0 col1\" >0.109375</td>\n",
              "      <td id=\"T_09a49_row0_col2\" class=\"data row0 col2\" >0.023438</td>\n",
              "    </tr>\n",
              "    <tr>\n",
              "      <th id=\"T_09a49_level0_row1\" class=\"row_heading level0 row1\" >Metodologia B</th>\n",
              "      <td id=\"T_09a49_row1_col0\" class=\"data row1 col0\" >0.109375</td>\n",
              "      <td id=\"T_09a49_row1_col1\" class=\"data row1 col1\" >1.000000</td>\n",
              "      <td id=\"T_09a49_row1_col2\" class=\"data row1 col2\" >0.023438</td>\n",
              "    </tr>\n",
              "    <tr>\n",
              "      <th id=\"T_09a49_level0_row2\" class=\"row_heading level0 row2\" >Metodologia C</th>\n",
              "      <td id=\"T_09a49_row2_col0\" class=\"data row2 col0\" >0.023438</td>\n",
              "      <td id=\"T_09a49_row2_col1\" class=\"data row2 col1\" >0.023438</td>\n",
              "      <td id=\"T_09a49_row2_col2\" class=\"data row2 col2\" >1.000000</td>\n",
              "    </tr>\n",
              "  </tbody>\n",
              "</table>\n"
            ]
          },
          "metadata": {},
          "execution_count": 34
        }
      ]
    },
    {
      "cell_type": "markdown",
      "source": [
        "Podemos concluir que a metodologia C funciona melhor que A e B."
      ],
      "metadata": {
        "id": "EMWMjep9zkt9"
      }
    },
    {
      "cell_type": "markdown",
      "source": [
        "# Teste Qui-Quadrado"
      ],
      "metadata": {
        "id": "MkYy9FGhAjPz"
      }
    },
    {
      "cell_type": "code",
      "source": [
        "from scipy.stats import chi2_contingency\n",
        "\n",
        "obs = np.array([[100, 400],[500, 1500]])\n",
        "chi2, p, graus_liberdade, ex = chi2_contingency(obs, correction=False)\n",
        "\n",
        "print(\"expected frequencies:\\n \", np.round(ex,2))\n",
        "print(\"graus de liberdade:\", graus_liberdade)\n",
        "print(\"test stat :%.4f\" % chi2)\n",
        "print(\"p-valor:%.4f\" % p)"
      ],
      "metadata": {
        "colab": {
          "base_uri": "https://localhost:8080/"
        },
        "id": "-cuEFh1I-nML",
        "outputId": "c74fe496-ea82-48f5-e28c-8edd25f15167"
      },
      "execution_count": null,
      "outputs": [
        {
          "output_type": "stream",
          "name": "stdout",
          "text": [
            "expected frequencies:\n",
            "  [[ 120.  380.]\n",
            " [ 480. 1520.]]\n",
            "graus de liberdade: 1\n",
            "test stat :5.4825\n",
            "p-valor:0.0192\n"
          ]
        }
      ]
    }
  ]
}